{
 "cells": [
  {
   "cell_type": "code",
   "execution_count": null,
   "metadata": {},
   "outputs": [],
   "source": [
    "import sys\n",
    "sys.path.append(\"..\")\n",
    "\n",
    "from Guidestar_colocalisation.readClasses import DaxRead\n",
    "import numpy as np\n",
    "import os\n",
    "import matplotlib.pyplot as plt\n",
    "from mpl_toolkits.axes_grid1.axes_divider import make_axes_locatable\n",
    "from matplotlib_scalebar.scalebar import ScaleBar"
   ]
  },
  {
   "cell_type": "code",
   "execution_count": null,
   "metadata": {},
   "outputs": [],
   "source": [
    "\n",
    "filepath = '/path_to_raw_data/'\n",
    "\n",
    "fig,axes = plt.subplots(2,2, figsize=(8,8))\n",
    "axes=axes.ravel()\n",
    "\n",
    "cy5_cell = DaxRead(os.path.join(filepath, 'Cy5_00_02.dax')).loadAllFrames()\n",
    "cy7_cell = DaxRead(os.path.join(filepath, 'Cy7_00_02.dax')).loadAllFrames()\n",
    "\n",
    "cy5_merfish = DaxRead(os.path.join(filepath, 'Cy5_04_02.dax')).loadAllFrames()\n",
    "cy7_merfish = DaxRead(os.path.join(filepath, 'Cy7_04_02.dax')).loadAllFrames()\n",
    "\n",
    "image_1 = axes[0].imshow(cy5_cell[0,1300:1700,1100:1500], cmap='gray', vmin=0, vmax=np.percentile(cy5_cell[0,1300:1700,1100:1500],99.9))\n",
    "image_2 = axes[1].imshow(cy5_merfish[0,1300:1700,1100:1500], cmap='gray', vmin=0, vmax=np.percentile(cy5_merfish[0,1300:1700,1100:1500],99.9))\n",
    "image_3 = axes[2].imshow(cy7_cell[0,1300:1700,1100:1500], cmap='gray', vmin=0, vmax=np.percentile(cy7_cell[0,1300:1700,1100:1500],99.9))\n",
    "image_4 = axes[3].imshow(cy7_merfish[0,1300:1700,1100:1500], cmap='gray', vmin=0, vmax=np.percentile(cy7_merfish[0,1300:1700,1100:1500],99.9))\n",
    "\n",
    "image_list = [image_1, image_2, image_3, image_4]\n",
    "\n",
    "for i in range(len(axes)):\n",
    "    divider = make_axes_locatable(axes[i])\n",
    "    cax = divider.append_axes('right', size='5%', pad=0.05)\n",
    "    cbar = fig.colorbar(image_list[i], cax=cax, orientation='vertical')\n",
    "    ticks = list(cbar.get_ticks())\n",
    "    cbar.set_ticks([ticks[0],ticks[-1]])\n",
    "    axes[i].set_xticks([])\n",
    "    axes[i].set_yticks([])\n",
    "    \n",
    "scalebar = ScaleBar(122,'nm', box_color=None, box_alpha=0, color='yellow', location='lower right', width_fraction=0.02, length_fraction=0.3)\n",
    "axes[3].add_artist(scalebar)\n",
    "\n",
    "axes[0].set_title('cy5 GS')\n",
    "axes[1].set_title('cy5 merfish')\n",
    "axes[2].set_title('cy7 GS')\n",
    "axes[3].set_title('cy7 merfish')\n",
    "\n",
    "fig.tight_layout()\n",
    "fig.savefig('examples_fig1.svg')"
   ]
  }
 ],
 "metadata": {
  "language_info": {
   "name": "python"
  }
 },
 "nbformat": 4,
 "nbformat_minor": 2
}
